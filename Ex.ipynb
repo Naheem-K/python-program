{
 "cells": [
  {
   "cell_type": "code",
   "execution_count": 10,
   "id": "cbabd166",
   "metadata": {},
   "outputs": [
    {
     "name": "stdout",
     "output_type": "stream",
     "text": [
      "You entered a even number\n"
     ]
    }
   ],
   "source": [
    "x = int(input(\"Enter the number:\"))\n",
    "if x%2==0:\n",
    "    \n",
    "    print(\"You entered a even number\")\n",
    "else:\n",
    "    print(\"You entered a odd number\")"
   ]
  },
  {
   "cell_type": "code",
   "execution_count": 13,
   "id": "30fbbd4a",
   "metadata": {},
   "outputs": [
    {
     "name": "stdout",
     "output_type": "stream",
     "text": [
      "The largest number is 50\n"
     ]
    }
   ],
   "source": [
    "x = int(input(\"Enter the First number:\"))\n",
    "y = int(input(\"Enter the Second number:\"))\n",
    "\n",
    "if x>y:\n",
    "    print(\"The largest number is\",x)\n",
    "else:\n",
    "    print(\"The largest number is\",y)"
   ]
  },
  {
   "cell_type": "code",
   "execution_count": 34,
   "id": "2c4aad4d",
   "metadata": {},
   "outputs": [
    {
     "name": "stdout",
     "output_type": "stream",
     "text": [
      "You entered a leap year\n"
     ]
    }
   ],
   "source": [
    "x = int(input(\"enter the year:\"))\n",
    "\n",
    "if x%400==0:\n",
    "    print(\"You entered a leap year\")\n",
    "elif x%100==0:\n",
    "    \n",
    "    print(\"you entered not leap year\")\n",
    "elif x%4==0:\n",
    "     print(\"You entered a leap year\")\n",
    "else:\n",
    "    print(\"this is not leap year\")"
   ]
  },
  {
   "cell_type": "code",
   "execution_count": 40,
   "id": "5cd80854",
   "metadata": {},
   "outputs": [
    {
     "name": "stdout",
     "output_type": "stream",
     "text": [
      "The factorial 4 of 24\n"
     ]
    }
   ],
   "source": [
    "x = int(input(\"enter the number:\"))\n",
    "fact = 1\n",
    "for x in range(1,x+1):\n",
    "    fact *=x\n",
    "print(\"The factorial\",x,\"of\",fact)"
   ]
  },
  {
   "cell_type": "code",
   "execution_count": 41,
   "id": "62e87eb2",
   "metadata": {},
   "outputs": [],
   "source": [
    "import numpy as np"
   ]
  },
  {
   "cell_type": "code",
   "execution_count": 70,
   "id": "6d1eef2f",
   "metadata": {},
   "outputs": [
    {
     "data": {
      "text/plain": [
       "array([4, 3, 2, 1, 0])"
      ]
     },
     "execution_count": 70,
     "metadata": {},
     "output_type": "execute_result"
    }
   ],
   "source": [
    "x = np.arange(5)\n",
    "x[::-1]"
   ]
  },
  {
   "cell_type": "code",
   "execution_count": 1,
   "id": "cdd361e9",
   "metadata": {},
   "outputs": [
    {
     "name": "stdout",
     "output_type": "stream",
     "text": [
      "Reversed number is 654321\n"
     ]
    }
   ],
   "source": [
    "x = int(input(\"Enter the number:\"))\n",
    "r = 0\n",
    "while x > 0:\n",
    "    d = x%10\n",
    "    r = r*10+d\n",
    "    x //=10\n",
    "print(\"Reversed number is\",r)"
   ]
  },
  {
   "cell_type": "code",
   "execution_count": 80,
   "id": "5005dfb0",
   "metadata": {},
   "outputs": [
    {
     "name": "stdout",
     "output_type": "stream",
     "text": [
      "The reversed number is 54321\n"
     ]
    }
   ],
   "source": [
    "x = int(input(\"Enter the number:\"))\n",
    "r = 0\n",
    "while x>0:\n",
    "    digit = x%10\n",
    "    r = r*10+digit\n",
    "    x //=10\n",
    "print(\"The reversed number is\",r)\n"
   ]
  },
  {
   "cell_type": "code",
   "execution_count": 39,
   "id": "64ffce95",
   "metadata": {},
   "outputs": [
    {
     "name": "stdout",
     "output_type": "stream",
     "text": [
      "sum is 7\n"
     ]
    }
   ],
   "source": [
    "def addition(x,y):\n",
    "    return x+y\n",
    "def calcu():\n",
    "    a = int(input(\"Enter the first number:\"))\n",
    "    b = int(input(\"Enter the second number:\"))\n",
    "    result =addition(a,b)\n",
    "    print(\"sum is\",result)\n",
    "calcu()\n"
   ]
  },
  {
   "cell_type": "code",
   "execution_count": 43,
   "id": "42377f1d",
   "metadata": {},
   "outputs": [
    {
     "ename": "IndentationError",
     "evalue": "expected an indented block after function definition on line 1 (673667191.py, line 2)",
     "output_type": "error",
     "traceback": [
      "  \u001b[36mCell\u001b[39m\u001b[36m \u001b[39m\u001b[32mIn[43]\u001b[39m\u001b[32m, line 2\u001b[39m\n\u001b[31m    \u001b[39m\u001b[31mx = int(input(\"enter the number:\"))\u001b[39m\n    ^\n\u001b[31mIndentationError\u001b[39m\u001b[31m:\u001b[39m expected an indented block after function definition on line 1\n"
     ]
    }
   ],
   "source": [
    "def factorial(a,b):\n",
    "x = int(input(\"enter the number:\"))\n",
    "fact = 1\n",
    "for x in range(1,x+1):\n",
    "    fact *=x\n",
    "print(\"The factorial\",x,\"of\",fact)"
   ]
  },
  {
   "cell_type": "code",
   "execution_count": 59,
   "id": "86bb2486",
   "metadata": {},
   "outputs": [
    {
     "name": "stdout",
     "output_type": "stream",
     "text": [
      "even is [0, 2, 4, 6, 8]\n",
      "odd is [1, 3, 5, 7, 9]\n"
     ]
    }
   ],
   "source": [
    "even=[i for i in range (10)if i%2==0]\n",
    "print(\"even is\",even)\n",
    "odd=[i for i in range (10)if i%2!=0]\n",
    "print(\"odd is\",odd)"
   ]
  },
  {
   "cell_type": "code",
   "execution_count": 80,
   "id": "6d2e6662",
   "metadata": {},
   "outputs": [
    {
     "name": "stdout",
     "output_type": "stream",
     "text": [
      "['banana', 'grapefruit']\n"
     ]
    }
   ],
   "source": [
    "fruit = [\"apple\",\"banana\",\"kiwi\",\"grapefruit\"]\n",
    "lt = [f for f in fruit if len(f)>5]\n",
    "print(lt)"
   ]
  },
  {
   "cell_type": "code",
   "execution_count": 1,
   "id": "683c2f40",
   "metadata": {},
   "outputs": [
    {
     "ename": "KeyError",
     "evalue": "'name'",
     "output_type": "error",
     "traceback": [
      "\u001b[31m---------------------------------------------------------------------------\u001b[39m",
      "\u001b[31mKeyError\u001b[39m                                  Traceback (most recent call last)",
      "\u001b[36mCell\u001b[39m\u001b[36m \u001b[39m\u001b[32mIn[1]\u001b[39m\u001b[32m, line 2\u001b[39m\n\u001b[32m      1\u001b[39m dit =[{\u001b[33m\"\u001b[39m\u001b[33mName\u001b[39m\u001b[33m\"\u001b[39m:\u001b[33m\"\u001b[39m\u001b[33mJohn\u001b[39m\u001b[33m\"\u001b[39m,\u001b[33m\"\u001b[39m\u001b[33mAge\u001b[39m\u001b[33m\"\u001b[39m:\u001b[32m20\u001b[39m},{\u001b[33m\"\u001b[39m\u001b[33mName\u001b[39m\u001b[33m\"\u001b[39m:\u001b[33m\"\u001b[39m\u001b[33mali\u001b[39m\u001b[33m\"\u001b[39m,\u001b[33m\"\u001b[39m\u001b[33mAge\u001b[39m\u001b[33m\"\u001b[39m:\u001b[32m25\u001b[39m,}]\n\u001b[32m----> \u001b[39m\u001b[32m2\u001b[39m names = [\u001b[43md\u001b[49m\u001b[43m[\u001b[49m\u001b[33;43m\"\u001b[39;49m\u001b[33;43mname\u001b[39;49m\u001b[33;43m\"\u001b[39;49m\u001b[43m]\u001b[49m \u001b[38;5;28;01mfor\u001b[39;00m d \u001b[38;5;129;01min\u001b[39;00m dit]\n\u001b[32m      3\u001b[39m \u001b[38;5;28mprint\u001b[39m(names)\n",
      "\u001b[31mKeyError\u001b[39m: 'name'"
     ]
    }
   ],
   "source": [
    "dit =[{\"Name\":\"John\",\"Age\":20},{\"Name\":\"ali\",\"Age\":25,}]\n",
    "names = [d[\"name\"] for d in dit]\n",
    "print(names)"
   ]
  },
  {
   "cell_type": "code",
   "execution_count": 112,
   "id": "bffb33ef",
   "metadata": {},
   "outputs": [
    {
     "name": "stdout",
     "output_type": "stream",
     "text": [
      "['John', 'ali']\n"
     ]
    }
   ],
   "source": [
    "dit =[{\"Name\":\"John\",\"Age\":20},{\"Name\":\"ali\",\"Age\":25,}]\n",
    "names = [d[\"Name\"] for d in dit]\n",
    "print(names)"
   ]
  },
  {
   "cell_type": "code",
   "execution_count": null,
   "id": "cfea2269",
   "metadata": {},
   "outputs": [
    {
     "name": "stdout",
     "output_type": "stream",
     "text": [
      "1 2 3 4 5 6 7 8 9 "
     ]
    }
   ],
   "source": [
    "l = [[1,2,3,],[4,5,6],[7,8,9]]\n",
    "l1 = \n",
    "    "
   ]
  },
  {
   "cell_type": "code",
   "execution_count": null,
   "id": "49f5a631",
   "metadata": {},
   "outputs": [],
   "source": [
    "list =[]\n",
    "list.append[5]"
   ]
  },
  {
   "cell_type": "code",
   "execution_count": null,
   "id": "59a24df8",
   "metadata": {},
   "outputs": [
    {
     "ename": "TypeError",
     "evalue": "'int' object is not callable",
     "output_type": "error",
     "traceback": [
      "\u001b[31m---------------------------------------------------------------------------\u001b[39m",
      "\u001b[31mTypeError\u001b[39m                                 Traceback (most recent call last)",
      "\u001b[36mCell\u001b[39m\u001b[36m \u001b[39m\u001b[32mIn[7]\u001b[39m\u001b[32m, line 3\u001b[39m\n\u001b[32m      1\u001b[39m l1 = \u001b[32m21\u001b[39m\n\u001b[32m----> \u001b[39m\u001b[32m3\u001b[39m \u001b[38;5;28;01mfor\u001b[39;00m l \u001b[38;5;129;01min\u001b[39;00m \u001b[43ml1\u001b[49m\u001b[43m \u001b[49m\u001b[43m(\u001b[49m\u001b[32;43m1\u001b[39;49m\u001b[43m,\u001b[49m\u001b[32;43m21\u001b[39;49m\u001b[43m,\u001b[49m\u001b[32;43m1\u001b[39;49m\u001b[43m)\u001b[49m:\n\u001b[32m      4\u001b[39m     \u001b[38;5;28mprint\u001b[39m(l1)\n",
      "\u001b[31mTypeError\u001b[39m: 'int' object is not callable"
     ]
    }
   ],
   "source": [
    "l1 = 0\n",
    "if l1 > \n",
    "for l in l1 (1,21,1):\n",
    "    print(l1)\n"
   ]
  },
  {
   "cell_type": "code",
   "execution_count": 1,
   "id": "a7465b06",
   "metadata": {},
   "outputs": [
    {
     "name": "stdout",
     "output_type": "stream",
     "text": [
      "5\n"
     ]
    }
   ],
   "source": [
    "x = 5 \n",
    "print(x)"
   ]
  },
  {
   "cell_type": "code",
   "execution_count": null,
   "id": "37a4b328",
   "metadata": {},
   "outputs": [
    {
     "name": "stdout",
     "output_type": "stream",
     "text": [
      "<class 'float'>\n"
     ]
    }
   ],
   "source": [
    "x = 5\n",
    "\n",
    "naheem =input(\"enter the number:\")\n",
    "\n",
    "print(type(naheem))"
   ]
  },
  {
   "cell_type": "code",
   "execution_count": 10,
   "id": "7349bd23",
   "metadata": {},
   "outputs": [
    {
     "ename": "SyntaxError",
     "evalue": "invalid syntax (1404170635.py, line 6)",
     "output_type": "error",
     "traceback": [
      "  \u001b[36mCell\u001b[39m\u001b[36m \u001b[39m\u001b[32mIn[10]\u001b[39m\u001b[32m, line 6\u001b[39m\n\u001b[31m    \u001b[39m\u001b[31melif:\u001b[39m\n        ^\n\u001b[31mSyntaxError\u001b[39m\u001b[31m:\u001b[39m invalid syntax\n"
     ]
    }
   ],
   "source": [
    "x = 5\n",
    "\n",
    "y = int(input(\"enter the number:\"))\n",
    "if y > x:\n",
    "    print(x)\n",
    "elif:\n",
    "    y < x:\n",
    "print(x)"
   ]
  },
  {
   "cell_type": "code",
   "execution_count": null,
   "id": "4855056a",
   "metadata": {},
   "outputs": [],
   "source": []
  }
 ],
 "metadata": {
  "kernelspec": {
   "display_name": "Python 3",
   "language": "python",
   "name": "python3"
  },
  "language_info": {
   "codemirror_mode": {
    "name": "ipython",
    "version": 3
   },
   "file_extension": ".py",
   "mimetype": "text/x-python",
   "name": "python",
   "nbconvert_exporter": "python",
   "pygments_lexer": "ipython3",
   "version": "3.13.5"
  }
 },
 "nbformat": 4,
 "nbformat_minor": 5
}
