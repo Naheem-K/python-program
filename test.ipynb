{
 "cells": [
  {
   "cell_type": "code",
   "execution_count": 5,
   "id": "0194ae8b",
   "metadata": {},
   "outputs": [
    {
     "data": {
      "text/plain": [
       "2500"
      ]
     },
     "execution_count": 5,
     "metadata": {},
     "output_type": "execute_result"
    }
   ],
   "source": [
    "class employee:\n",
    "    def __init__(self,name):\n",
    "        self.name = name\n",
    "\n",
    "    def calculate_salary(self):\n",
    "        pass\n",
    "\n",
    "class fulltime_employee(employee):\n",
    "    def __init__(self,name,monthly_salary):\n",
    "        super().__init__(name)\n",
    "        self.monthly_salary = monthly_salary\n",
    "\n",
    "    def calculate_salary(self):\n",
    "        return self.monthly_salary\n",
    "    pass\n",
    "class parttime_employee(employee):\n",
    "    def __init__(self,name,hourly_rate,hourly_worked):\n",
    "        super().__init__(name)\n",
    "        self.hourly_rate = hourly_rate\n",
    "        self.hourly_worked = hourly_worked\n",
    "\n",
    "    def calculate_salary(self):\n",
    "        return self.hourly_worked * self.hourly_rate\n",
    "        \n",
    "        pass\n",
    "e  = employee(\"jhon\")\n",
    "e.calculate_salary()\n",
    "\n",
    "f = fulltime_employee(\"nahee\",25000)\n",
    "f.calculate_salary()\n",
    "\n",
    "p = parttime_employee(\"naheem\",10,250)\n",
    "p.calculate_salary()\n",
    "        \n"
   ]
  },
  {
   "cell_type": "code",
   "execution_count": 2,
   "id": "5afd79e2",
   "metadata": {},
   "outputs": [
    {
     "name": "stdout",
     "output_type": "stream",
     "text": [
      "1\n",
      "2\n",
      "3\n",
      "4\n",
      "5\n",
      "6\n",
      "7\n",
      "8\n",
      "9\n",
      "10\n",
      "11\n",
      "12\n",
      "13\n",
      "14\n",
      "15\n",
      "16\n",
      "17\n",
      "18\n",
      "19\n",
      "20\n",
      "21\n",
      "22\n",
      "23\n",
      "24\n",
      "25\n",
      "26\n",
      "27\n",
      "28\n",
      "29\n",
      "30\n",
      "31\n",
      "32\n",
      "33\n",
      "34\n",
      "35\n",
      "36\n",
      "37\n",
      "38\n",
      "39\n",
      "40\n",
      "41\n",
      "42\n",
      "43\n",
      "44\n",
      "45\n",
      "46\n",
      "47\n",
      "48\n",
      "49\n",
      "50\n"
     ]
    }
   ],
   "source": [
    "x = 0\n",
    "for i in range(1,51,1):\n",
    "    print(i)"
   ]
  },
  {
   "cell_type": "code",
   "execution_count": 1,
   "id": "d05c1d61",
   "metadata": {},
   "outputs": [
    {
     "name": "stdout",
     "output_type": "stream",
     "text": [
      "6\n",
      "7\n",
      "8\n",
      "9\n",
      "10\n",
      "11\n",
      "12\n",
      "13\n",
      "14\n",
      "15\n"
     ]
    }
   ],
   "source": [
    "n = int(input(\"Enter the number:\"))\n",
    "for i in range(1,11):\n",
    "    print(i+n)\n"
   ]
  },
  {
   "cell_type": "code",
   "execution_count": 17,
   "id": "8a86d88a",
   "metadata": {},
   "outputs": [
    {
     "name": "stdout",
     "output_type": "stream",
     "text": [
      "9\n"
     ]
    }
   ],
   "source": [
    "n = int(input(\"enter the number:\"))\n",
    "sum = 0\n",
    "for i in range(1,n+1,2):\n",
    "\n",
    "    sum = sum+i\n",
    "print(sum)"
   ]
  },
  {
   "cell_type": "code",
   "execution_count": 20,
   "id": "f7ad7a16",
   "metadata": {},
   "outputs": [
    {
     "name": "stdout",
     "output_type": "stream",
     "text": [
      "fact is 1\n",
      "fact is 3\n",
      "fact is 15\n"
     ]
    }
   ],
   "source": [
    "n = 5\n",
    "fact = 1\n",
    "for i in range(1,n+1,2):\n",
    "    fact*=i\n",
    "    print(\"fact is\",fact)\n"
   ]
  },
  {
   "cell_type": "code",
   "execution_count": 24,
   "id": "d99e0947",
   "metadata": {},
   "outputs": [
    {
     "name": "stdout",
     "output_type": "stream",
     "text": [
      "2 4 6 8 10 12 14 16 18 20 "
     ]
    }
   ],
   "source": [
    "u = 2\n",
    "while u<=20:\n",
    "    print(u,end=\" \")\n",
    "    u +=2"
   ]
  },
  {
   "cell_type": "code",
   "execution_count": 3,
   "id": "8ecee15f",
   "metadata": {},
   "outputs": [
    {
     "name": "stdout",
     "output_type": "stream",
     "text": [
      "9 is big\n"
     ]
    }
   ],
   "source": [
    "x = int(input(\"number one:\"))\n",
    "y = int(input(\"number two:\"))\n",
    "z = int(input(\"number three:\"))\n",
    "\n",
    "if x>=y and x>=z:\n",
    "    print(x,\"is big\")\n",
    "elif y >= x and y >= z:\n",
    "    print(y,\"is big\")\n",
    "else:\n",
    "    print(z,\"is big\")\n",
    "\n"
   ]
  },
  {
   "cell_type": "markdown",
   "id": "a0c8dfd8",
   "metadata": {},
   "source": [
    "#Create a class Student with the following requirements:\n",
    "\n",
    "1. The attributes __name, __roll_number, and __marks should be private.\n",
    "\n",
    "\n",
    "2. Provide getter and setter methods for each attribute with validation:\n",
    "\n",
    "name should not be empty.\n",
    "\n",
    "roll_number should be a positive integer.\n",
    "\n",
    "marks should be between 0 and 100.\n",
    "\n",
    "\n",
    "\n",
    "3. Write a method display_details() that prints student details in a clean format.\n",
    "\n",
    "\n",
    "4. Create a few student objects, set their details, and show how encapsulation prevents setting invalid data."
   ]
  },
  {
   "cell_type": "code",
   "execution_count": 9,
   "id": "2c819546",
   "metadata": {},
   "outputs": [
    {
     "ename": "AttributeError",
     "evalue": "'student' object has no attribute 'set__name'",
     "output_type": "error",
     "traceback": [
      "\u001b[31m---------------------------------------------------------------------------\u001b[39m",
      "\u001b[31mAttributeError\u001b[39m                            Traceback (most recent call last)",
      "\u001b[36mCell\u001b[39m\u001b[36m \u001b[39m\u001b[32mIn[9]\u001b[39m\u001b[32m, line 44\u001b[39m\n\u001b[32m     39\u001b[39m     \u001b[38;5;28;01mdef\u001b[39;00m\u001b[38;5;250m \u001b[39m\u001b[34mdisplay_details\u001b[39m(\u001b[38;5;28mself\u001b[39m):\n\u001b[32m     40\u001b[39m         \u001b[38;5;28mprint\u001b[39m(\u001b[33mf\u001b[39m\u001b[33m\"\u001b[39m\u001b[33mname:\u001b[39m\u001b[38;5;132;01m{\u001b[39;00m\u001b[38;5;28mself\u001b[39m.__name\u001b[38;5;132;01m}\u001b[39;00m\u001b[33m,roll number:\u001b[39m\u001b[38;5;132;01m{\u001b[39;00m\u001b[38;5;28mself\u001b[39m.__roll_number\u001b[38;5;132;01m}\u001b[39;00m\u001b[33m,Mark:\u001b[39m\u001b[38;5;132;01m{\u001b[39;00m\u001b[38;5;28mself\u001b[39m.__mark\u001b[38;5;132;01m}\u001b[39;00m\u001b[33m\"\u001b[39m)\n\u001b[32m---> \u001b[39m\u001b[32m44\u001b[39m a1 = \u001b[43mstudent\u001b[49m\u001b[43m(\u001b[49m\u001b[33;43m\"\u001b[39;49m\u001b[33;43mnaheem\u001b[39;49m\u001b[33;43m\"\u001b[39;49m\u001b[43m,\u001b[49m\u001b[32;43m12\u001b[39;49m\u001b[43m,\u001b[49m\u001b[32;43m87\u001b[39;49m\u001b[43m)\u001b[49m\n\u001b[32m     45\u001b[39m a1.display_details()\n",
      "\u001b[36mCell\u001b[39m\u001b[36m \u001b[39m\u001b[32mIn[9]\u001b[39m\u001b[32m, line 6\u001b[39m, in \u001b[36mstudent.__init__\u001b[39m\u001b[34m(self, _student__name, _student__roll_number, _student__marks)\u001b[39m\n\u001b[32m      4\u001b[39m \u001b[38;5;28mself\u001b[39m.__roll_number = \u001b[38;5;28;01mNone\u001b[39;00m\n\u001b[32m      5\u001b[39m \u001b[38;5;28mself\u001b[39m.__mark = \u001b[38;5;28;01mNone\u001b[39;00m\n\u001b[32m----> \u001b[39m\u001b[32m6\u001b[39m \u001b[38;5;28;43mself\u001b[39;49m\u001b[43m.\u001b[49m\u001b[43mset__name\u001b[49m(name)\n\u001b[32m      7\u001b[39m \u001b[38;5;28mself\u001b[39m.set__roll_number(roll_number)\n\u001b[32m      8\u001b[39m \u001b[38;5;28mself\u001b[39m.set__mark(mark)\n",
      "\u001b[31mAttributeError\u001b[39m: 'student' object has no attribute 'set__name'"
     ]
    }
   ],
   "source": [
    "class student:\n",
    "    def __init__(self,__name,__roll_number=0,__marks=0):\n",
    "        self.__name = None\n",
    "        self.__roll_number = None\n",
    "        self.__mark = None\n",
    "        self.set__name(name)\n",
    "        self.set__roll_number(roll_number)\n",
    "        self.set__mark(mark)\n",
    "\n",
    "    def get_name(self):\n",
    "        return self.__name\n",
    "    \n",
    "    def get_roll_number(self):\n",
    "        return self.__roll_number\n",
    "    \n",
    "    def get_marks(self):\n",
    "        return self.__mark\n",
    "\n",
    "\n",
    "    def set_name(self,name):\n",
    "        if isinstance(name,str) and name.strip():\n",
    "           self.__name = name\n",
    "\n",
    "        else:\n",
    "             print(\"Invalid name\")\n",
    "\n",
    "    def get_roll_number(self):\n",
    "        if isinstance(roll_number,int) and roll_number>0:\n",
    "            self.__roll_number = roll_number\n",
    "        else:\n",
    "            print(\"Invalid Roll number.must be positive integerr\")\n",
    "\n",
    "    def get_marks(self):\n",
    "        if isinstance(marks,float) and 0 <= marks <=100:\n",
    "            self.__mark = marks\n",
    "        else:\n",
    "            print(\"invalid\")\n",
    "\n",
    "    def display_details(self):\n",
    "        print(f\"name:{self.__name},roll number:{self.__roll_number},Mark:{self.__mark}\")\n",
    "\n",
    "\n",
    "\n",
    "a1 = student(\"naheem\",12,87)\n",
    "a1.display_details()\n",
    "\n"
   ]
  },
  {
   "cell_type": "code",
   "execution_count": 21,
   "id": "3a456280",
   "metadata": {},
   "outputs": [
    {
     "name": "stdout",
     "output_type": "stream",
     "text": [
      "mohammed Naheem\n"
     ]
    }
   ],
   "source": [
    "class person:\n",
    "    def __init__(self, fname, lname):\n",
    "        self.first_name = fname\n",
    "        self.last_name = lname\n",
    "\n",
    "    def call(self):\n",
    "        print(self.first_name, self.last_name)\n",
    "\n",
    "a1 = person(\"mohammed\", \"Naheem\")\n",
    "a1.call()"
   ]
  },
  {
   "cell_type": "code",
   "execution_count": 1,
   "id": "bf70064e",
   "metadata": {},
   "outputs": [
    {
     "name": "stdout",
     "output_type": "stream",
     "text": [
      "14\n"
     ]
    }
   ],
   "source": [
    "def add_number(*args):\n",
    "    return sum(args)\n",
    "print(add_number(3,5,6))"
   ]
  },
  {
   "cell_type": "code",
   "execution_count": null,
   "id": "e1d4dff2",
   "metadata": {},
   "outputs": [],
   "source": []
  }
 ],
 "metadata": {
  "kernelspec": {
   "display_name": "Python 3",
   "language": "python",
   "name": "python3"
  },
  "language_info": {
   "codemirror_mode": {
    "name": "ipython",
    "version": 3
   },
   "file_extension": ".py",
   "mimetype": "text/x-python",
   "name": "python",
   "nbconvert_exporter": "python",
   "pygments_lexer": "ipython3",
   "version": "3.13.5"
  }
 },
 "nbformat": 4,
 "nbformat_minor": 5
}
