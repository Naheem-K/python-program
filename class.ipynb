{
 "cells": [
  {
   "cell_type": "code",
   "execution_count": 1,
   "id": "486cbd0c",
   "metadata": {},
   "outputs": [
    {
     "name": "stdout",
     "output_type": "stream",
     "text": [
      "13\n"
     ]
    }
   ],
   "source": [
    "x = 8\n",
    "def add():\n",
    "    return x + 5\n",
    "print(add())"
   ]
  },
  {
   "cell_type": "code",
   "execution_count": 9,
   "id": "73a16123",
   "metadata": {},
   "outputs": [
    {
     "data": {
      "text/plain": [
       "'car name:honda,car year:2024,car price:50000'"
      ]
     },
     "execution_count": 9,
     "metadata": {},
     "output_type": "execute_result"
    }
   ],
   "source": [
    "class car:\n",
    "    def __init__(self,name,year,price):\n",
    "        self.name = name\n",
    "        self.year = year\n",
    "        self.price = price\n",
    "    def car(self):\n",
    "        return f\"car name:{self.name},car year:{self.year},car price:{self.price}\"\n",
    "c1 = car(\"honda\",2024,50000)\n",
    "c1.car()\n"
   ]
  },
  {
   "cell_type": "code",
   "execution_count": null,
   "id": "fda83cbe",
   "metadata": {},
   "outputs": [
    {
     "ename": "IndentationError",
     "evalue": "expected an indented block after function definition on line 3 (3942000869.py, line 4)",
     "output_type": "error",
     "traceback": [
      "  \u001b[36mCell\u001b[39m\u001b[36m \u001b[39m\u001b[32mIn[24]\u001b[39m\u001b[32m, line 4\u001b[39m\n\u001b[31m    \u001b[39m\u001b[31mself.name =  name\u001b[39m\n    ^\n\u001b[31mIndentationError\u001b[39m\u001b[31m:\u001b[39m expected an indented block after function definition on line 3\n"
     ]
    }
   ],
   "source": [
    "class student:\n",
    "    def person(self):\n",
    "        def __init__(self,name,self,__mark):\n",
    "        self.name =  name\n",
    "    self.__mark= mark\n",
    "\n",
    "    def p1():\n",
    "        return f\"name{self.name},__mark{self.mark}\"    #access the privet variable                                                  \n",
    "    p1 =(\"john\"50)\n",
    "    print(p1.person())\n",
    "\n"
   ]
  },
  {
   "cell_type": "code",
   "execution_count": null,
   "id": "e624144e",
   "metadata": {},
   "outputs": [
    {
     "ename": "SyntaxError",
     "evalue": "invalid syntax (1410534017.py, line 6)",
     "output_type": "error",
     "traceback": [
      "  \u001b[36mCell\u001b[39m\u001b[36m \u001b[39m\u001b[32mIn[28]\u001b[39m\u001b[32m, line 6\u001b[39m\n\u001b[31m    \u001b[39m\u001b[31mdef __init__(self.side,lenght):\u001b[39m\n                     ^\n\u001b[31mSyntaxError\u001b[39m\u001b[31m:\u001b[39m invalid syntax\n"
     ]
    }
   ],
   "source": [
    "from abc import ABC, abstractmethod\n",
    "class shape(ABC): #find the squre\n",
    "    def start (self):\n",
    "        pass\n",
    "class square:\n",
    "    def __init__(self.side,lenght):\n",
    "        self.side_lenght\n",
    "    \n",
    "    def sl():\n",
    "\n"
   ]
  },
  {
   "cell_type": "markdown",
   "id": "cd4209d7",
   "metadata": {},
   "source": [
    "1.write a python program using inheritance where.\n",
    "2.Developer and manager are child classes yhat inherit from Employee\n",
    "3.each class should have a method show_details ()that prints employee details\n",
    "    for employee :print name and salary\n",
    "    for Developer:print name ,salary,and programming language\n",
    "    for manager: print name,salary, and team size\n",
    "creat one object each of employees ,developer,manager"
   ]
  },
  {
   "cell_type": "code",
   "execution_count": 6,
   "id": "68cc0ea6",
   "metadata": {},
   "outputs": [
    {
     "ename": "TypeError",
     "evalue": "employee.__init__() takes 3 positional arguments but 4 were given",
     "output_type": "error",
     "traceback": [
      "\u001b[31m---------------------------------------------------------------------------\u001b[39m",
      "\u001b[31mTypeError\u001b[39m                                 Traceback (most recent call last)",
      "\u001b[36mCell\u001b[39m\u001b[36m \u001b[39m\u001b[32mIn[6]\u001b[39m\u001b[32m, line 19\u001b[39m\n\u001b[32m     16\u001b[39m           \u001b[38;5;28;01mreturn\u001b[39;00m \u001b[33mf\u001b[39m\u001b[33m\"\u001b[39m\u001b[33mmanager:\u001b[39m\u001b[38;5;132;01m{\u001b[39;00m\u001b[38;5;28mself\u001b[39m.name\u001b[38;5;132;01m}\u001b[39;00m\u001b[33m,salary:\u001b[39m\u001b[38;5;132;01m{\u001b[39;00m\u001b[38;5;28mself\u001b[39m.salary\u001b[38;5;132;01m}\u001b[39;00m\u001b[33m,team_size:\u001b[39m\u001b[38;5;132;01m{\u001b[39;00m\u001b[38;5;28mself\u001b[39m.team_size\u001b[38;5;132;01m}\u001b[39;00m\u001b[33m\"\u001b[39m\n\u001b[32m     18\u001b[39m emp = employee(\u001b[33m\"\u001b[39m\u001b[33msd\u001b[39m\u001b[33m\"\u001b[39m,\u001b[32m222222\u001b[39m)\n\u001b[32m---> \u001b[39m\u001b[32m19\u001b[39m dp = \u001b[43mdeveloper\u001b[49m\u001b[43m(\u001b[49m\u001b[33;43m\"\u001b[39;49m\u001b[33;43masn\u001b[39;49m\u001b[33;43m\"\u001b[39;49m\u001b[43m,\u001b[49m\u001b[32;43m500000\u001b[39;49m\u001b[43m,\u001b[49m\u001b[33;43m\"\u001b[39;49m\u001b[33;43mpython\u001b[39;49m\u001b[33;43m\"\u001b[39;49m\u001b[43m)\u001b[49m\n\u001b[32m     20\u001b[39m mn = manager(\u001b[33m\"\u001b[39m\u001b[33mmns\u001b[39m\u001b[33m\"\u001b[39m,\u001b[32m78154\u001b[39m)\n\u001b[32m     21\u001b[39m emp.details()\n",
      "\u001b[36mCell\u001b[39m\u001b[36m \u001b[39m\u001b[32mIn[6]\u001b[39m\u001b[32m, line 7\u001b[39m, in \u001b[36mdeveloper.__init__\u001b[39m\u001b[34m(self, name, salary, pr_language)\u001b[39m\n\u001b[32m      6\u001b[39m \u001b[38;5;28;01mdef\u001b[39;00m\u001b[38;5;250m \u001b[39m\u001b[34m__init__\u001b[39m(\u001b[38;5;28mself\u001b[39m,name,salary,pr_language):\n\u001b[32m----> \u001b[39m\u001b[32m7\u001b[39m     \u001b[38;5;28;43msuper\u001b[39;49m\u001b[43m(\u001b[49m\u001b[43m)\u001b[49m\u001b[43m.\u001b[49m\u001b[34;43m__init__\u001b[39;49m\u001b[43m(\u001b[49m\u001b[38;5;28;43mself\u001b[39;49m\u001b[43m,\u001b[49m\u001b[43mname\u001b[49m\u001b[43m,\u001b[49m\u001b[43msalary\u001b[49m\u001b[43m)\u001b[49m\n\u001b[32m      8\u001b[39m     \u001b[38;5;28mself\u001b[39m.pr_language = pr_language\n",
      "\u001b[31mTypeError\u001b[39m: employee.__init__() takes 3 positional arguments but 4 were given"
     ]
    }
   ],
   "source": [
    "class employee:\n",
    "    def __init__(self, name, salary):\n",
    "        self.name = name\n",
    "        self.salary = salary\n",
    "class developer(employee):\n",
    "    def __init__(self,name,salary,pr_language):\n",
    "        super().__init__(self,name,salary)\n",
    "        self.pr_language = pr_language\n",
    "    def detials(self):\n",
    "            return(f\"Developer:{self.name},salary:{self.salary},language:{self.pr_language}\")\n",
    "class manager(employee):\n",
    "     def __init__(name,salary,team_size):\n",
    "        super().__init__(name,salary)\n",
    "        self.team_size = team_size\n",
    "     def details(self):\n",
    "          return f\"manager:{self.name},salary:{self.salary},team_size:{self.team_size}\"\n",
    "    \n",
    "emp = employee(\"sd\",222222)\n",
    "dp = developer(\"asn\",500000,\"python\")\n",
    "mn = manager(\"mns\",78154)\n",
    "emp.details()"
   ]
  },
  {
   "cell_type": "markdown",
   "id": "8db9bf92",
   "metadata": {},
   "source": [
    "1.write a python program using inheritance where.\n",
    "2.Developer and manager are child classes yhat inherit from Employee\n",
    "3.each class should have a method show_details ()that prints employee details\n",
    "    for employee :print name and salary\n",
    "    for Developer:print name ,salary,and programming language\n",
    "    for manager: print name,salary, and team size\n",
    "creat one object each of employees ,developer,manager"
   ]
  },
  {
   "cell_type": "code",
   "execution_count": 6,
   "id": "1b8b2c49",
   "metadata": {},
   "outputs": [
    {
     "name": "stdout",
     "output_type": "stream",
     "text": [
      "name:aju:,salary:25000\n",
      "name:sunny:,salary:241224,language:python\n",
      "name:john:,salary:50000,t_size:2100\n"
     ]
    }
   ],
   "source": [
    "class employee:\n",
    "    def __init__(self,name,salary):\n",
    "        self.name = name\n",
    "        self.salary = salary\n",
    "    def show_details(self):\n",
    "            print(f\"name:{self.name},salary:{self.salary}\")\n",
    "\n",
    "\n",
    "class developer(employee):\n",
    "    def __init__(self,name,salary,language):\n",
    "         super().__init__(name,salary)\n",
    "         self.language = language\n",
    "\n",
    "    def show_details(self):\n",
    "\n",
    "        print(f\"name:{self.name},salary:{self.salary},language:{self.language}\")\n",
    "\n",
    "class manager(employee):\n",
    "    def __init__(self, name, salary,t_size):\n",
    "        super().__init__(name,salary)\n",
    "        self.t_size = t_size\n",
    "\n",
    "    def show_details(self):\n",
    "        print(f\"name:{self.name},salary:{self.salary},t_size:{self.t_size}\")\n",
    "\n",
    "e = employee(\"aju:\",25000)\n",
    "d = developer(\"sunny:\",241224,\"python\")\n",
    "m = manager(\"john:\",50000,2100)\n",
    "e.show_details()\n",
    "d.show_details()\n",
    "m.show_details()\n"
   ]
  },
  {
   "cell_type": "code",
   "execution_count": 3,
   "id": "5a704124",
   "metadata": {},
   "outputs": [
    {
     "name": "stdout",
     "output_type": "stream",
     "text": [
      "1000 withrawed successfully\n",
      "account_holder:naheem,bank_balance:3020\n",
      "current_balance:3020\n"
     ]
    }
   ],
   "source": [
    "class bank_ac:\n",
    "    def __init__(self,ac_holder,bank_balance):\n",
    "        self.ac_holder = ac_holder\n",
    "        self.bank_balance = bank_balance\n",
    "\n",
    "    def withraw(self,amount):\n",
    "        if amount > 0:\n",
    "            self.bank_balance += amount\n",
    "            print(f\"{amount} withrawed successfully\")\n",
    "        else:\n",
    "            print(\"transaction unsuccess\")\n",
    "\n",
    "\n",
    "    def show_Details(self):\n",
    "        print(f\"account_holder:{self.ac_holder},bank_balance:{self.bank_balance}\")\n",
    "        print(f\"current_balance:{self.bank_balance}\")\n",
    "\n",
    "a1 = bank_ac(\"naheem\",2020)\n",
    "a1.withraw(1000)\n",
    "a1.show_Details()\n",
    "\n",
    "\n",
    "\n",
    "\n",
    "\n"
   ]
  },
  {
   "cell_type": "markdown",
   "id": "0a485cb9",
   "metadata": {},
   "source": [
    "1.Create a base class Person with attributes name and age. Derive a class Employee that adds salary. Show how to create an object of Employee and display all details.\n"
   ]
  },
  {
   "cell_type": "code",
   "execution_count": 9,
   "id": "bcce38bf",
   "metadata": {},
   "outputs": [
    {
     "name": "stdout",
     "output_type": "stream",
     "text": [
      "name:Naheem,age:24,salary:500000\n"
     ]
    }
   ],
   "source": [
    "class Person:\n",
    "    def __init__(self,name,age):\n",
    "        self.name = name\n",
    "        self.age = age\n",
    "\n",
    "    def employee(self,salary):\n",
    "        self.salary = salary\n",
    "        \n",
    "    def call(self):\n",
    "        print(f\"name:{self.name},age:{self.age},salary:{self.salary}\")\n",
    "\n",
    "a1 = Person(\"Naheem\",24)\n",
    "a1.employee(500000)\n",
    "a1.call()        \n"
   ]
  },
  {
   "cell_type": "markdown",
   "id": "7165a71f",
   "metadata": {},
   "source": [
    "2.Implement a class hierarchy:Vehicle (base) with method start_engine().\n",
    "\n",
    "Car (derived) with additional method play_music().\n",
    "\n",
    "ElectricCar (derived from Car) with method charge_battery().\n",
    "Demonstrate creating objects and calling all relevant methods.\n",
    "\n"
   ]
  },
  {
   "cell_type": "code",
   "execution_count": null,
   "id": "2ff36765",
   "metadata": {},
   "outputs": [
    {
     "ename": "IndentationError",
     "evalue": "expected an indented block after function definition on line 6 (3246177060.py, line 8)",
     "output_type": "error",
     "traceback": [
      "  \u001b[36mCell\u001b[39m\u001b[36m \u001b[39m\u001b[32mIn[11]\u001b[39m\u001b[32m, line 8\u001b[39m\n\u001b[31m    \u001b[39m\u001b[31mdef car(vehicle):\u001b[39m\n    ^\n\u001b[31mIndentationError\u001b[39m\u001b[31m:\u001b[39m expected an indented block after function definition on line 6\n"
     ]
    }
   ],
   "source": [
    "class vehicle:\n",
    "    def __init__(self,name):\n",
    "        self.name = name\n",
    "        print(\"engine startet\")\n",
    "\n",
    "    def start_engine(self):\n",
    "    \n",
    "    def car(vehicle):\n",
    "        print(\"palaying music\")\n",
    "    def play_music(self):\n",
    "        \n",
    "\n"
   ]
  },
  {
   "cell_type": "code",
   "execution_count": null,
   "id": "b6ee7116",
   "metadata": {},
   "outputs": [],
   "source": []
  }
 ],
 "metadata": {
  "kernelspec": {
   "display_name": "Python 3",
   "language": "python",
   "name": "python3"
  },
  "language_info": {
   "codemirror_mode": {
    "name": "ipython",
    "version": 3
   },
   "file_extension": ".py",
   "mimetype": "text/x-python",
   "name": "python",
   "nbconvert_exporter": "python",
   "pygments_lexer": "ipython3",
   "version": "3.13.5"
  }
 },
 "nbformat": 4,
 "nbformat_minor": 5
}
