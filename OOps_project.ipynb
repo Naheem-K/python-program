{
 "cells": [
  {
   "cell_type": "markdown",
   "id": "73203912",
   "metadata": {},
   "source": [
    "1.Create a base class Person with attributes name and age. Derive a class Employee that adds salary. Show how to create an object of Employee and display all details.\n"
   ]
  },
  {
   "cell_type": "code",
   "execution_count": 1,
   "id": "8eb2ddba",
   "metadata": {},
   "outputs": [
    {
     "name": "stdout",
     "output_type": "stream",
     "text": [
      "name:Naheem,age:24,salary:500000\n"
     ]
    }
   ],
   "source": [
    "class Person:\n",
    "    def __init__(self,name,age):\n",
    "        self.name = name\n",
    "        self.age = age\n",
    "\n",
    "    def employee(self,salary):\n",
    "        self.salary = salary\n",
    "        \n",
    "    def call(self):\n",
    "        print(f\"name:{self.name},age:{self.age},salary:{self.salary}\")\n",
    "\n",
    "a1 = Person(\"Naheem\",24)\n",
    "a1.employee(500000)\n",
    "a1.call()        \n"
   ]
  },
  {
   "cell_type": "markdown",
   "id": "127d1e62",
   "metadata": {},
   "source": [
    "2.Implement a class hierarchy:Vehicle (base) with method start_engine().\n",
    "\n",
    "Car (derived) with additional method play_music().\n",
    "\n",
    "ElectricCar (derived from Car) with method charge_battery().\n",
    "Demonstrate creating objects and calling all relevant methods.\n",
    "\n"
   ]
  },
  {
   "cell_type": "code",
   "execution_count": 27,
   "id": "010d2436",
   "metadata": {},
   "outputs": [
    {
     "name": "stdout",
     "output_type": "stream",
     "text": [
      "4 wheeler engine started\n",
      "Hyundai engine started\n",
      "Hyundai playing music\n",
      "BYD engine started\n",
      "BYD playing music\n",
      "BYD battery low\n"
     ]
    }
   ],
   "source": [
    "class vehicle:\n",
    "    def __init__(self,name):\n",
    "        self.name = name\n",
    "        \n",
    "    def start_engine(self):\n",
    "        print(f\"{self.name} engine started\")\n",
    "\n",
    "class car(vehicle):\n",
    "    def play_music(self):\n",
    "        print(f\"{self.name} playing music\")\n",
    "\n",
    "\n",
    "class electricCar(car):\n",
    "    def battery_low(self):\n",
    "        print(f\"{self.name} battery low\") \n",
    "\n",
    "\n",
    "        \n",
    "           \n",
    "v = vehicle(\"4 wheeler\")\n",
    "v.start_engine()\n",
    "\n",
    "c = car(\"Hyundai\")\n",
    "c.start_engine()\n",
    "c.play_music()\n",
    "\n",
    "e = electricCar(\"BYD\")\n",
    "e.start_engine()\n",
    "e.play_music()\n",
    "e.battery_low()\n"
   ]
  },
  {
   "cell_type": "markdown",
   "id": "b9785b78",
   "metadata": {},
   "source": [
    "3. Write a function area() that works differently for Square and Rectangle classes. Demonstrate method overriding for calculating area.\n"
   ]
  },
  {
   "cell_type": "code",
   "execution_count": 35,
   "id": "5f917591",
   "metadata": {},
   "outputs": [
    {
     "name": "stdout",
     "output_type": "stream",
     "text": [
      "square:36\n",
      "rectangle:48\n"
     ]
    }
   ],
   "source": [
    "class shape:\n",
    "    def area(self):\n",
    "        return 0\n",
    "    \n",
    "class square(shape):\n",
    "    def __init__(self,side):\n",
    "        self.side = side\n",
    "\n",
    "    def area(self):\n",
    "        return self.side*self.side\n",
    "\n",
    "\n",
    "class retacngle(shape):\n",
    "    def __init__(self,length,width):\n",
    "        self.length = length\n",
    "        self.width = width\n",
    "\n",
    "    def area(self):\n",
    "        return self.length*self.width\n",
    "    \n",
    "a1 = square(6)\n",
    "a2 = retacngle(8,6)\n",
    "print(f\"square:{a1.area()}\")\n",
    "print(f\"rectangle:{a2.area()}\")\n"
   ]
  },
  {
   "cell_type": "markdown",
   "id": "f52f8fd6",
   "metadata": {},
   "source": [
    "\n",
    "4.Create a base class Shape with a method draw(). Derive classes Circle, Rectangle, and Triangle that override draw(). \n",
    "\n"
   ]
  },
  {
   "cell_type": "code",
   "execution_count": 3,
   "id": "7932ac42",
   "metadata": {},
   "outputs": [
    {
     "name": "stdout",
     "output_type": "stream",
     "text": [
      "Drwaing circle\n",
      "Drawing rectangle\n",
      "drawing triangle\n"
     ]
    }
   ],
   "source": [
    "class shape:\n",
    "    def draw(self):\n",
    "        print(\"the shape\")\n",
    "\n",
    "class cirlce(shape):\n",
    "    def draw(self):\n",
    "        print(\"Drwaing circle\")\n",
    "\n",
    "class Rectangle(shape):\n",
    "    def draw(self):\n",
    "        print(\"Drawing rectangle\")\n",
    "\n",
    "class triangle(shape):\n",
    "    def draw(self):\n",
    "        print(\"drawing triangle\")\n",
    "\n",
    "shape = [cirlce(),Rectangle(),triangle()]\n",
    "for s in shape:\n",
    "    s.draw()"
   ]
  },
  {
   "cell_type": "markdown",
   "id": "a0925abe",
   "metadata": {},
   "source": [
    "5.Create an abstract class Payment with abstract methods make_payment() and payment_status(). Implement two concrete classes CreditCardPayment and UPIPayment. Write a program where the user chooses the payment method and the respective class handles the process."
   ]
  },
  {
   "cell_type": "code",
   "execution_count": 9,
   "id": "7fe81806",
   "metadata": {},
   "outputs": [],
   "source": [
    "from abc import ABC ,abstractmethod"
   ]
  },
  {
   "cell_type": "code",
   "execution_count": 1,
   "id": "deb94bca",
   "metadata": {},
   "outputs": [
    {
     "ename": "IndentationError",
     "evalue": "expected an indented block after function definition on line 11 (1772609303.py, line 13)",
     "output_type": "error",
     "traceback": [
      "  \u001b[36mCell\u001b[39m\u001b[36m \u001b[39m\u001b[32mIn[1]\u001b[39m\u001b[32m, line 13\u001b[39m\n\u001b[31m    \u001b[39m\u001b[31mclass make_payment(self,amount):\u001b[39m\n                                    ^\n\u001b[31mIndentationError\u001b[39m\u001b[31m:\u001b[39m expected an indented block after function definition on line 11\n"
     ]
    }
   ],
   "source": [
    "class payment(ABC):\n",
    "    @abstractmethod\n",
    "    def make_payment(self,amount):\n",
    "        pass\n",
    "    def payment_status(self):\n",
    "        pass\n",
    "class credit_card_payment(payment):\n",
    "    def __init__(self):\n",
    "        pass\n",
    "   \n",
    "    def payment_status(self):\n",
    "      \n",
    "class make_payment(self,amount):\n",
    "    print(f\"processing payment{self.amount}\")\n",
    "\n",
    "    def payment_status(self):\n",
    "        \n",
    "\n",
    "    \n",
    "\n",
    "\n"
   ]
  },
  {
   "cell_type": "markdown",
   "id": "1d9a5b62",
   "metadata": {},
   "source": [
    "6. Classes & Methods:\n",
    "Create a class Library that allows you to:\n",
    "\n",
    "1.Add books (title and author).\n",
    "\n",
    "2.Display all books.\n",
    "\n",
    "3.Search for a book by title"
   ]
  },
  {
   "cell_type": "code",
   "execution_count": 19,
   "id": "9de0dc66",
   "metadata": {},
   "outputs": [
    {
     "name": "stdout",
     "output_type": "stream",
     "text": [
      "this book {title} written by {auther}\n",
      "this book {title} written by {auther}\n"
     ]
    },
    {
     "ename": "TypeError",
     "evalue": "library.search_book() takes 1 positional argument but 2 were given",
     "output_type": "error",
     "traceback": [
      "\u001b[31m---------------------------------------------------------------------------\u001b[39m",
      "\u001b[31mTypeError\u001b[39m                                 Traceback (most recent call last)",
      "\u001b[36mCell\u001b[39m\u001b[36m \u001b[39m\u001b[32mIn[19]\u001b[39m\u001b[32m, line 32\u001b[39m\n\u001b[32m     30\u001b[39m l.add_books(\u001b[33m\"\u001b[39m\u001b[33malchemist\u001b[39m\u001b[33m\"\u001b[39m,\u001b[33m\"\u001b[39m\u001b[33mpoulo_choilo\u001b[39m\u001b[33m\"\u001b[39m)\n\u001b[32m     31\u001b[39m l.add_books(\u001b[33m\"\u001b[39m\u001b[33mchandi\u001b[39m\u001b[33m\"\u001b[39m,\u001b[33m\"\u001b[39m\u001b[33mimmanuel\u001b[39m\u001b[33m\"\u001b[39m)\n\u001b[32m---> \u001b[39m\u001b[32m32\u001b[39m \u001b[43ml\u001b[49m\u001b[43m.\u001b[49m\u001b[43msearch_book\u001b[49m\u001b[43m(\u001b[49m\u001b[33;43m\"\u001b[39;49m\u001b[33;43malchemist\u001b[39;49m\u001b[33;43m\"\u001b[39;49m\u001b[43m)\u001b[49m\n\u001b[32m     33\u001b[39m l.display_books()\n",
      "\u001b[31mTypeError\u001b[39m: library.search_book() takes 1 positional argument but 2 were given"
     ]
    }
   ],
   "source": [
    "class library:\n",
    "    def __init__(self):\n",
    "        self.book = []\n",
    "\n",
    "    def add_books(self,title,auther):\n",
    "        book = {\"title\":title,\"auther\":auther}\n",
    "        self.book.append(book) \n",
    "        print(\"this book {title} written by {auther}\")\n",
    "\n",
    "\n",
    "    def display_books(self):\n",
    "\n",
    "        if not self.book:\n",
    "            print(\"the library empty\")\n",
    "        else:\n",
    "            print(\"Book available\")\n",
    "            for idx,book in enumerate(self.book,start=1):\n",
    "                print(f'Found: \"{book[\"title\"]}\" by {book[\"author\"]}')\n",
    "    def search_book(self):\n",
    "        found = False\n",
    "        for book in self.books:\n",
    "            if book[\"title\"].lower() == title.lower():\n",
    "                print(f'Found: \"{book[\"title\"]}\" by {book[\"author\"]}')\n",
    "                found = True\n",
    "                break\n",
    "        if not found:\n",
    "            print(f'book\"{title}\" not found')\n",
    "\n",
    "l = library()\n",
    "l.add_books(\"alchemist\",\"poulo_choilo\")\n",
    "l.add_books(\"chandi\",\"immanuel\")\n",
    "l.search_book(\"alchemist\")\n",
    "l.display_books()"
   ]
  },
  {
   "cell_type": "code",
   "execution_count": 4,
   "id": "88aa614a",
   "metadata": {},
   "outputs": [
    {
     "name": "stdout",
     "output_type": "stream",
     "text": [
      "Book \"1984\" by George Orwell added successfully.\n",
      "Book \"To Kill a Mockingbird\" by Harper Lee added successfully.\n",
      "Books in the Library:\n",
      "1. 1984 by George Orwell\n",
      "2. To Kill a Mockingbird by Harper Lee\n",
      "Found: \"1984\" by George Orwell\n",
      "Book \"The Great Gatsby\" not found in the library.\n"
     ]
    }
   ],
   "source": [
    "class Library:\n",
    "    def __init__(self):\n",
    "        self.books = []  # List to store books as dictionaries\n",
    "\n",
    "    def add_book(self, title, author):\n",
    "        book = {\"title\": title, \"author\": author}\n",
    "        self.books.append(book)\n",
    "        print(f'Book \"{title}\" by {author} added successfully.')\n",
    "\n",
    "    def display_books(self):\n",
    "        if not self.books:\n",
    "            print(\"No books in the library.\")\n",
    "        else:\n",
    "            print(\"Books in the Library:\")\n",
    "            for idx, book in enumerate(self.books, start=1):\n",
    "                print(f\"{idx}. {book['title']} by {book['author']}\")\n",
    "\n",
    "    def search_book(self, title):\n",
    "        found = False\n",
    "        for book in self.books:\n",
    "            if book[\"title\"].lower() == title.lower():\n",
    "                print(f'Found: \"{book[\"title\"]}\" by {book[\"author\"]}')\n",
    "                found = True\n",
    "                break\n",
    "        if not found:\n",
    "            print(f'Book \"{title}\" not found in the library.')\n",
    "\n",
    "\n",
    "# Example usage\n",
    "lib = Library()\n",
    "lib.add_book(\"1984\", \"George Orwell\")\n",
    "lib.add_book(\"To Kill a Mockingbird\", \"Harper Lee\")\n",
    "lib.display_books()\n",
    "lib.search_book(\"1984\")\n",
    "lib.search_book(\"The Great Gatsby\")\n"
   ]
  },
  {
   "cell_type": "code",
   "execution_count": null,
   "id": "61932adc",
   "metadata": {},
   "outputs": [],
   "source": []
  }
 ],
 "metadata": {
  "kernelspec": {
   "display_name": "Python 3",
   "language": "python",
   "name": "python3"
  },
  "language_info": {
   "codemirror_mode": {
    "name": "ipython",
    "version": 3
   },
   "file_extension": ".py",
   "mimetype": "text/x-python",
   "name": "python",
   "nbconvert_exporter": "python",
   "pygments_lexer": "ipython3",
   "version": "3.13.5"
  }
 },
 "nbformat": 4,
 "nbformat_minor": 5
}
