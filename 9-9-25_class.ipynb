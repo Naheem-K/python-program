{
 "cells": [
  {
   "cell_type": "markdown",
   "id": "6afc2211",
   "metadata": {},
   "source": [
    "Creat a laptop class with:\n",
    "a) A privet variable __price\n",
    "B) a getter method to return the price\n",
    "C)"
   ]
  },
  {
   "cell_type": "code",
   "execution_count": null,
   "id": "eb7a867e",
   "metadata": {},
   "outputs": [],
   "source": [
    "class book:\n",
    "    def __init__(self,title):\n",
    "        self.__title = title"
   ]
  },
  {
   "cell_type": "code",
   "execution_count": 30,
   "id": "4f3755e7",
   "metadata": {},
   "outputs": [
    {
     "name": "stdout",
     "output_type": "stream",
     "text": [
      "The price is low\n",
      "Updated value 10000\n"
     ]
    }
   ],
   "source": [
    "class laptop:\n",
    "    def __init__(self,price):\n",
    "        self.__price = price\n",
    "\n",
    "    def get_price(self):\n",
    "            return self.__price\n",
    "        \n",
    "    def set_price(self,price):\n",
    "        if price>10000:\n",
    "            self.__price = price\n",
    "\n",
    "        else:\n",
    "             print(\"The price is low\")\n",
    "\n",
    "\n",
    "a1 = laptop(10000)\n",
    "a1.set_price(200)\n",
    "print(\"Updated value\",a1.get_price())\n",
    "\n",
    "        \n",
    "\n",
    "        \n"
   ]
  },
  {
   "cell_type": "markdown",
   "id": "c05a4f0f",
   "metadata": {},
   "source": [
    "creat a class using maths with a method multiple():"
   ]
  },
  {
   "cell_type": "code",
   "execution_count": null,
   "id": "5d588022",
   "metadata": {},
   "outputs": [],
   "source": [
    "class math:\n",
    "    def multi(self,*args):\n",
    "        \n",
    "   \n",
    "    \n",
    "\n",
    "\n",
    "        "
   ]
  },
  {
   "cell_type": "code",
   "execution_count": null,
   "id": "46d42ea5",
   "metadata": {},
   "outputs": [],
   "source": [
    "#kwargs allows the method to accept any number of arguments.for variable number of keywords argument\n"
   ]
  }
 ],
 "metadata": {
  "kernelspec": {
   "display_name": "Python 3",
   "language": "python",
   "name": "python3"
  },
  "language_info": {
   "codemirror_mode": {
    "name": "ipython",
    "version": 3
   },
   "file_extension": ".py",
   "mimetype": "text/x-python",
   "name": "python",
   "nbconvert_exporter": "python",
   "pygments_lexer": "ipython3",
   "version": "3.13.5"
  }
 },
 "nbformat": 4,
 "nbformat_minor": 5
}
