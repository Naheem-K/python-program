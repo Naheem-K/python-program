{
 "cells": [
  {
   "cell_type": "markdown",
   "id": "de6bdeb8",
   "metadata": {},
   "source": [
    "Rversed Numbr"
   ]
  },
  {
   "cell_type": "code",
   "execution_count": 20,
   "id": "40843373",
   "metadata": {},
   "outputs": [
    {
     "name": "stdout",
     "output_type": "stream",
     "text": [
      "Reversed 321\n"
     ]
    }
   ],
   "source": [
    "x = int(input(\"enter the number:\"))\n",
    "i = 0\n",
    "while x > 0:\n",
    "    d = x%10\n",
    "    i = i*10+d\n",
    "    x //= 10\n",
    "print(\"Reversed\",i)"
   ]
  },
  {
   "cell_type": "markdown",
   "id": "93e0c001",
   "metadata": {},
   "source": [
    "PRIME NUMBER"
   ]
  },
  {
   "cell_type": "code",
   "execution_count": 68,
   "id": "fa172e42",
   "metadata": {},
   "outputs": [
    {
     "name": "stdout",
     "output_type": "stream",
     "text": [
      "4 is not prime\n"
     ]
    }
   ],
   "source": [
    "x = int(input(\"enter the number:\"))\n",
    "count = 0\n",
    "for i in range(1,x+1):\n",
    "    if x%i == 0:\n",
    "        count = count + 1\n",
    "       \n",
    "if count == 2:\n",
    "                 print(x,\"is a prime\")\n",
    "else:\n",
    "     print(x,\"is not prime\")\n"
   ]
  },
  {
   "cell_type": "markdown",
   "id": "9d30b970",
   "metadata": {},
   "source": [
    "Sentence into words"
   ]
  },
  {
   "cell_type": "code",
   "execution_count": 97,
   "id": "eda66a6b",
   "metadata": {},
   "outputs": [
    {
     "name": "stdout",
     "output_type": "stream",
     "text": [
      "['I', 'love', 'India', ',India', 'is', 'my', 'country']\n"
     ]
    }
   ],
   "source": [
    "sentence = \"I love India ,India is my country\"\n",
    "words = sentence.split()\n",
    "print(words)\n",
    "\n"
   ]
  },
  {
   "cell_type": "code",
   "execution_count": null,
   "id": "91a1058e",
   "metadata": {},
   "outputs": [
    {
     "ename": "NameError",
     "evalue": "name 'words' is not defined",
     "output_type": "error",
     "traceback": [
      "\u001b[31m---------------------------------------------------------------------------\u001b[39m",
      "\u001b[31mNameError\u001b[39m                                 Traceback (most recent call last)",
      "\u001b[36mCell\u001b[39m\u001b[36m \u001b[39m\u001b[32mIn[16]\u001b[39m\u001b[32m, line 2\u001b[39m\n\u001b[32m      1\u001b[39m dit = {}\n\u001b[32m----> \u001b[39m\u001b[32m2\u001b[39m \u001b[38;5;28;01mfor\u001b[39;00m word \u001b[38;5;129;01min\u001b[39;00m \u001b[43mwords\u001b[49m:\n\u001b[32m      3\u001b[39m     \u001b[38;5;28;01mif\u001b[39;00m  word \u001b[38;5;129;01min\u001b[39;00m dit:\n\u001b[32m      4\u001b[39m          dit[word]+=\u001b[32m1\u001b[39m\n",
      "\u001b[31mNameError\u001b[39m: name 'words' is not defined"
     ]
    }
   ],
   "source": [
    "dit = {}\n",
    "for word in words:\n",
    "    if  word in dit:\n",
    "         dit[word]+=1\n",
    "    else:\n",
    "         dit[word]=1\n",
    "print(dit)"
   ]
  },
  {
   "cell_type": "code",
   "execution_count": 42,
   "id": "aa6f280c",
   "metadata": {},
   "outputs": [
    {
     "name": "stdout",
     "output_type": "stream",
     "text": [
      "1000 cash deposited\n",
      "ac_holder:Naheem,Deposit:1000\n",
      "Current_Balance:16000\n"
     ]
    }
   ],
   "source": [
    "class bank_ac:\n",
    "    def __init__(self,ac_holder,balance,amount):\n",
    "        self.ac_holder = ac_holder\n",
    "        self.amount = amount\n",
    "        self.balance = balance\n",
    "    def deposit(self,amount):\n",
    "\n",
    "        if amount> 0:\n",
    "            self.balance += amount\n",
    "            print(f\"{self.amount} cash deposited\")\n",
    "\n",
    "        else:\n",
    "            print(\"transaction unsucsess\")\n",
    "    def call(self):\n",
    "        print(f\"ac_holder:{self.ac_holder},Deposit:{self.amount}\")\n",
    "        print(f\"Current_Balance:{self.balance}\")\n",
    "\n",
    "a1 = bank_ac(\"Naheem\",15000,1000)\n",
    "a1.deposit(1000)\n",
    "a1.call()\n",
    "    "
   ]
  },
  {
   "cell_type": "code",
   "execution_count": null,
   "id": "3094186f",
   "metadata": {},
   "outputs": [],
   "source": []
  },
  {
   "cell_type": "code",
   "execution_count": null,
   "id": "b88ca176",
   "metadata": {},
   "outputs": [],
   "source": []
  },
  {
   "cell_type": "code",
   "execution_count": null,
   "id": "d7624c5e",
   "metadata": {},
   "outputs": [],
   "source": []
  }
 ],
 "metadata": {
  "kernelspec": {
   "display_name": "Python 3",
   "language": "python",
   "name": "python3"
  },
  "language_info": {
   "codemirror_mode": {
    "name": "ipython",
    "version": 3
   },
   "file_extension": ".py",
   "mimetype": "text/x-python",
   "name": "python",
   "nbconvert_exporter": "python",
   "pygments_lexer": "ipython3",
   "version": "3.13.5"
  }
 },
 "nbformat": 4,
 "nbformat_minor": 5
}
